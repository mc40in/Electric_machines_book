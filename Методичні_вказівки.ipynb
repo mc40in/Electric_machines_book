{
  "nbformat": 4,
  "nbformat_minor": 0,
  "metadata": {
    "colab": {
      "provenance": [],
      "toc_visible": true,
      "authorship_tag": "ABX9TyMgJL4aeCxHnBKMQ+yyASoe",
      "include_colab_link": true
    },
    "kernelspec": {
      "name": "python3",
      "display_name": "Python 3"
    },
    "language_info": {
      "name": "python"
    }
  },
  "cells": [
    {
      "cell_type": "markdown",
      "metadata": {
        "id": "view-in-github",
        "colab_type": "text"
      },
      "source": [
        "<a href=\"https://colab.research.google.com/github/mc40in/Electric_machines_book/blob/main/%D0%9C%D0%B5%D1%82%D0%BE%D0%B4%D0%B8%D1%87%D0%BD%D1%96_%D0%B2%D0%BA%D0%B0%D0%B7%D1%96%D0%B2%D0%BA%D0%B8.ipynb\" target=\"_parent\"><img src=\"https://colab.research.google.com/assets/colab-badge.svg\" alt=\"Open In Colab\"/></a>"
      ]
    },
    {
      "cell_type": "markdown",
      "source": [
        "# 1. Вступ до Python. Основи мови."
      ],
      "metadata": {
        "id": "-lNFZrNpzqdn"
      }
    },
    {
      "cell_type": "markdown",
      "source": [
        "# **1.1 Змінні та типи  даних у Python**\n",
        "\n",
        "Змінні і типи даних є основними поняттями в Python, які використовуються для збереження та маніпулювання інформацією. Розуміння змінних і типів даних є ключовим для ефективного програмування.\n",
        "\n",
        "Змінна — це іменована область пам'яті, яка використовується для збереження даних. У Python змінні не потребують попереднього оголошення, і їхній тип визначається автоматично на основі присвоєного значення. Це робить роботу зі змінними простою та гнучкою.\n"
      ],
      "metadata": {
        "id": "6g_Uisyp9lX-"
      }
    },
    {
      "cell_type": "code",
      "execution_count": null,
      "metadata": {
        "id": "UjovY3Bf9kKJ",
        "colab": {
          "base_uri": "https://localhost:8080/"
        },
        "outputId": "f0a839a3-a8fa-416b-a262-ab9a9163e32e"
      },
      "outputs": [
        {
          "output_type": "stream",
          "name": "stdout",
          "text": [
            "Electric Motor\n"
          ]
        }
      ],
      "source": [
        "name = \"Electric Motor\"   # рядок\n",
        "power = 500               # ціле число\n",
        "efficiency = 0.89         # дійсне число"
      ]
    },
    {
      "cell_type": "markdown",
      "source": [
        "У Python існує кілька основних типів даних, кожен із яких використовується для зберігання різних типів інформації:\n",
        "\n",
        "Цілі числа **(int)**\n",
        "Цей тип використовується для збереження цілих чисел, наприклад, кількість обертів двигуна, потужність або кількість пристроїв."
      ],
      "metadata": {
        "id": "T0bfl4OB9w2C"
      }
    },
    {
      "cell_type": "code",
      "source": [
        "revolutions = 1500"
      ],
      "metadata": {
        "id": "jNfAVXLs91V4"
      },
      "execution_count": null,
      "outputs": []
    },
    {
      "cell_type": "markdown",
      "source": [
        "Дійсні числа **(float)**\n",
        "Дійсні числа зберігаються як значення з плаваючою комою і застосовуються для зберігання дробових чисел, що часто потрібно в обчисленнях, наприклад, для розрахунку ефективності."
      ],
      "metadata": {
        "id": "NA9DVt-Q98UG"
      }
    },
    {
      "cell_type": "code",
      "source": [
        "efficiency = 0.95"
      ],
      "metadata": {
        "id": "d3yJw8uc9_yK"
      },
      "execution_count": null,
      "outputs": []
    },
    {
      "cell_type": "markdown",
      "source": [
        "Рядки **(str)**\n",
        "Рядки використовуються для збереження текстової інформації, як-от імена пристроїв або тип матеріалу."
      ],
      "metadata": {
        "id": "s3-8K6-y-C6i"
      }
    },
    {
      "cell_type": "code",
      "source": [
        "device_name = \"Generator\""
      ],
      "metadata": {
        "id": "6vlvbFHKQsKv"
      },
      "execution_count": null,
      "outputs": []
    },
    {
      "cell_type": "markdown",
      "source": [
        "Булеві значення **(bool)**.\n",
        "Булеві змінні приймають лише два значення: True або False. Вони корисні для реалізації умовної логіки."
      ],
      "metadata": {
        "id": "EOyK5wcDQwC3"
      }
    },
    {
      "cell_type": "code",
      "source": [
        "is_operational = True"
      ],
      "metadata": {
        "id": "s4mPmgLxQzGz"
      },
      "execution_count": null,
      "outputs": []
    },
    {
      "cell_type": "markdown",
      "source": [
        "Для зберігання та організації даних в Python використовуються списки, кортежі та словники, але кожен з них має свої особливості та підходить для різних завдань.\n",
        "\n",
        "**Списки (list).**\n",
        "Списки використовуються для збереження кількох значень в одній змінній. Вони особливо корисні для зберігання серій даних, наприклад, даних про різні компоненти."
      ],
      "metadata": {
        "id": "hkGSPZikQ29a"
      }
    },
    {
      "cell_type": "code",
      "source": [
        "components = [\"motor\", \"generator\", \"transformer\"]"
      ],
      "metadata": {
        "id": "vGPom-JaQ7-r"
      },
      "execution_count": null,
      "outputs": []
    },
    {
      "cell_type": "markdown",
      "source": [
        "**Кортежі (tuple).**\n",
        "Кортежі схожі на списки, але є незмінними. Вони використовуються для зберігання даних, які не повинні змінюватися протягом виконання програми."
      ],
      "metadata": {
        "id": "AJWXT4IdQ-Kt"
      }
    },
    {
      "cell_type": "code",
      "source": [
        "voltage_levels = (110, 220, 380)"
      ],
      "metadata": {
        "id": "cWB4IkemRBqQ"
      },
      "execution_count": null,
      "outputs": []
    },
    {
      "cell_type": "markdown",
      "source": [
        "**Словники (dict).**\n",
        "Словники зберігають дані у вигляді пар \"ключ-значення\", що зручно для доступу до інформації за ключовими словами. Це корисно для зберігання параметрів пристроїв або інших характеристик."
      ],
      "metadata": {
        "id": "r_lwq44zRIpX"
      }
    },
    {
      "cell_type": "code",
      "source": [
        "device_info = {\"name\": \"Motor\", \"power\": 500, \"voltage\": 220}"
      ],
      "metadata": {
        "id": "tzMvSpXjRMnb"
      },
      "execution_count": null,
      "outputs": []
    },
    {
      "cell_type": "markdown",
      "source": [
        "# 1.2 Основні бібліотеки, корисні для електромеханіки"
      ],
      "metadata": {
        "id": "Z4Yz_CoHNMmB"
      }
    },
    {
      "cell_type": "markdown",
      "source": [
        "У Python є кілька потужних бібліотек, які дуже корисні для інженерних і наукових обчислень, зокрема в галузі електромеханіки. Вони допомагають виконувати чисельні розрахунки, аналіз даних, моделювання та візуалізацію.\n",
        "\n",
        "**NumPy**\n",
        "Призначенна для обробки великих масивів чисел і виконання математичних операцій з ними.\n",
        "В електромеханіці можна використовувати для створення матриць для моделювання електричних схем, виконання лінійної алгебри, розрахунків енергоспоживання тощо."
      ],
      "metadata": {
        "id": "xYQJlYXKRhLb"
      }
    },
    {
      "cell_type": "code",
      "source": [
        "import numpy as np\n",
        "currents = np.array([10, 15, 20])\n",
        "resistances = np.array([5, 10, 15])\n",
        "voltages = currents * resistances  # закон Ома: U = I * R"
      ],
      "metadata": {
        "id": "1V8V2eRpR0Gn"
      },
      "execution_count": null,
      "outputs": []
    },
    {
      "cell_type": "markdown",
      "source": [
        "Бібліотека **SciPy** розширює можливості NumPy для складніших наукових і інженерних обчислень.\n",
        "Використовується для розв'язування диференціальних рівнянь, інтегрування, оптимізація параметрів систем керування, аналіз сигналів."
      ],
      "metadata": {
        "id": "vC-62TSBSWBB"
      }
    },
    {
      "cell_type": "code",
      "source": [
        "from scipy import integrate\n",
        "result = integrate.quad(lambda x: x**2, 0, 5)  # обчислення інтегралу функції x^2"
      ],
      "metadata": {
        "id": "ilIaSoNzSiUw"
      },
      "execution_count": null,
      "outputs": []
    },
    {
      "cell_type": "markdown",
      "source": [
        "**Matplotlib** Призначен для створення графіків і візуалізація даних.\n",
        "Закстосовується для побудови графіків електричних сигналів, аналізу енергоспоживання в різні моменти часу, візуалізація характеристик компонентів."
      ],
      "metadata": {
        "id": "lnw03iKjSrMA"
      }
    },
    {
      "cell_type": "code",
      "source": [
        "import matplotlib.pyplot as plt\n",
        "time = [0, 1, 2, 3, 4, 5]\n",
        "voltage = [0, 100, 150, 130, 110, 90]\n",
        "plt.plot(time, voltage)\n",
        "plt.xlabel(\"Time (s)\")\n",
        "plt.ylabel(\"Voltage (V)\")\n",
        "plt.title(\"Voltage Over Time\")\n",
        "plt.show()"
      ],
      "metadata": {
        "id": "e58SwyU6S2V6"
      },
      "execution_count": null,
      "outputs": []
    },
    {
      "cell_type": "markdown",
      "source": [
        "**Pandas** Призначенний для обробки і аналізу табличних даних.\n",
        "Вискористовують для аналізу великих наборів даних, таких як вимірювання параметрів електроприводів, обробка експериментальних даних і автоматизація звітів."
      ],
      "metadata": {
        "id": "AvdipRLyS-2F"
      }
    },
    {
      "cell_type": "code",
      "source": [
        "import pandas as pd\n",
        "data = {\"Time\": [1, 2, 3, 4], \"Current\": [10, 15, 20, 25]}\n",
        "df = pd.DataFrame(data)\n",
        "print(df)"
      ],
      "metadata": {
        "id": "RsqFa05qTJ_g"
      },
      "execution_count": null,
      "outputs": []
    },
    {
      "cell_type": "markdown",
      "source": [
        "**SymPy** використовують для символьних обчислення (аналіз математичних виразів).\n",
        "Призначений для спрощення рівнянь, символічне диференціювання, аналіз математичних моделей електричних машин."
      ],
      "metadata": {
        "id": "gU4UgPRqTTP8"
      }
    },
    {
      "cell_type": "code",
      "source": [
        "from sympy import symbols, diff\n",
        "x = symbols('x')\n",
        "expr = x**2 + 3*x + 2\n",
        "derivative = diff(expr, x)  # обчислення похідної"
      ],
      "metadata": {
        "id": "tHiIesYLTojA"
      },
      "execution_count": null,
      "outputs": []
    },
    {
      "cell_type": "markdown",
      "source": [
        "**Control Systems Library (control)**бібліотека призначена для аналізу і синтез систем автоматичного керування.\n",
        "Застосовується для моделювання та аналіз динамічних систем, проектування регуляторів, стабільність систем керування."
      ],
      "metadata": {
        "id": "SQ6XG9-LTr27"
      }
    },
    {
      "cell_type": "code",
      "source": [
        "import control as ctrl\n",
        "num = [1]  # чисельник передавальної функції\n",
        "den = [1, 3, 2]  # знаменник передавальної функції\n",
        "system = ctrl.TransferFunction(num, den)\n",
        "ctrl.bode(system)  # побудова частотної характеристики"
      ],
      "metadata": {
        "id": "QqI-oiP4T6t0"
      },
      "execution_count": null,
      "outputs": []
    },
    {
      "cell_type": "markdown",
      "source": [
        "Це далеко не повний перелік бібліотек які можна використати в будь якій галузі наукового програмування, але вони мають наібілше застосування."
      ],
      "metadata": {
        "id": "ZupSPlY0T-nY"
      }
    },
    {
      "cell_type": "markdown",
      "source": [
        "# 1.3 Поняття функції."
      ],
      "metadata": {
        "id": "Dh9eW29cURt2"
      }
    },
    {
      "cell_type": "markdown",
      "source": [
        "Функції в Python – це основні блоки коду, які дозволяють виконувати певну дію. Вони використовуються для структуризації програм, повторного використання коду та підвищення його зрозумілості. Функції приймають вхідні дані (аргументи), обробляють їх і можуть повертати результат.\n",
        "\n",
        "Функції в Python визначаються за допомогою ключового слова **def**, за яким іде ім'я функції, список параметрів у круглих дужках і двокрапка. Тіло функції записується з відступом."
      ],
      "metadata": {
        "id": "Wfn4WAic0LsZ"
      }
    },
    {
      "cell_type": "code",
      "source": [
        "def function_name(parameters):\n",
        "    # Тіло функції\n",
        "    return результат"
      ],
      "metadata": {
        "id": "Z4tBhaNm0WEx"
      },
      "execution_count": null,
      "outputs": []
    },
    {
      "cell_type": "markdown",
      "source": [
        "Для прикладу напишемо функцію яка буде вітати користувача."
      ],
      "metadata": {
        "id": "46mT_rdE0Zy_"
      }
    },
    {
      "cell_type": "code",
      "source": [
        "def greet(name):\n",
        "    return f\"Привіт, {name}!\"\n",
        "\n",
        "print(greet(\"User\"))  # Виведе: Привіт, User!"
      ],
      "metadata": {
        "id": "nKVk2b680itM"
      },
      "execution_count": null,
      "outputs": []
    },
    {
      "cell_type": "markdown",
      "source": [
        "Функції дозволяють створювати модульний і зручний для розуміння код. Наприклад, можна писати функції для розрахунку електричних параметрів:"
      ],
      "metadata": {
        "id": "La0J-UA_0qiG"
      }
    },
    {
      "cell_type": "code",
      "source": [
        "def calculate_power(voltage, current):\n",
        "    power = voltage * current\n",
        "    return power\n",
        "\n",
        "print(calculate_power(220, 10))  # Виведе: 2200 (Вт)"
      ],
      "metadata": {
        "id": "1yZGT22W0tJW"
      },
      "execution_count": null,
      "outputs": []
    },
    {
      "cell_type": "markdown",
      "source": [
        "Функції можуть мати кілька типів аргументів:\n",
        "\n",
        "**Обов'язкові аргументи:** мають бути передані при виклику функції.\n",
        "\n",
        "**Аргументи зі значеннями за замовчуванням:** якщо аргумент не передано, використовується значення за замовчуванням."
      ],
      "metadata": {
        "id": "EMRo-BrS0xs4"
      }
    },
    {
      "cell_type": "code",
      "source": [
        "def calculate_resistance(voltage, current=1):\n",
        "    return voltage / current\n",
        "\n",
        "print(calculate_resistance(220))       # Виведе: 220.0 (якщо струм = 1 A)\n",
        "print(calculate_resistance(220, 2))    # Виведе: 110.0"
      ],
      "metadata": {
        "id": "vVYd9FBv03Pt"
      },
      "execution_count": null,
      "outputs": []
    },
    {
      "cell_type": "markdown",
      "source": [
        "Змінні які передаються функція можуть бути двох типів:\n",
        "\n",
        "**Локальні змінні:** створюються всередині функції і доступні тільки в ній.\n",
        "**Глобальні змінні:** створюються поза функцією і можуть бути доступні у всій програмі."
      ],
      "metadata": {
        "id": "66p7hnoG06kw"
      }
    },
    {
      "cell_type": "code",
      "source": [
        "x = 10  # Глобальна змінна\n",
        "\n",
        "def example():\n",
        "    x = 5  # Локальна змінна\n",
        "    print(\"Локальне x:\", x)\n",
        "\n",
        "example()  # Виведе: Локальне x: 5\n",
        "print(\"Глобальне x:\", x)  # Виведе: Глобальне x: 10"
      ],
      "metadata": {
        "id": "FIOJnj4S1Icn"
      },
      "execution_count": null,
      "outputs": []
    },
    {
      "cell_type": "markdown",
      "source": [
        "Python підтримує створення анонімних (безіменних) функцій за допомогою ключового слова **lambda**. Вони використовуються для простих операцій."
      ],
      "metadata": {
        "id": "16y84tNd1MqF"
      }
    },
    {
      "cell_type": "code",
      "source": [
        "multiply = lambda x, y: x * y\n",
        "print(multiply(3, 4))  # Виведе: 12"
      ],
      "metadata": {
        "id": "YQDw0LcO1TzT"
      },
      "execution_count": null,
      "outputs": []
    },
    {
      "cell_type": "markdown",
      "source": [
        "Функції можуть бути вкладені одна в одну. Вкладені функції мають доступ до змінних зовнішньої функції, створюючи замикання."
      ],
      "metadata": {
        "id": "uUUkDJJq1X1j"
      }
    },
    {
      "cell_type": "code",
      "source": [
        "def outer_function(text):\n",
        "    def inner_function():\n",
        "        print(text)\n",
        "    inner_function()\n",
        "\n",
        "outer_function(\"Привіт, електромеханіка!\")  # Виведе: Привіт, електромеханіка!"
      ],
      "metadata": {
        "id": "18cHlKAK1aP5"
      },
      "execution_count": null,
      "outputs": []
    },
    {
      "cell_type": "markdown",
      "source": [
        "Функції особливо корисні, коли одна й та ж логіка повторюється багаторазово. Наприклад, можна створити функції для обчислення ефективності електричних машин, втрат потужності або інших параметрів."
      ],
      "metadata": {
        "id": "jO_5P-Pg1eXt"
      }
    },
    {
      "cell_type": "markdown",
      "source": [
        "# 1.4 Приклад створення програми для моделювання.\n",
        "\n",
        "Python дозволяє створювати математичні моделі, аналізувати їхню поведінку та вдосконалювати системи керування. Розглянемо приклад моделювання роботи двигуна постійного струму.\n",
        "\n",
        "Оскільки Google Colab перш за все призначений для роботи з кодом (Python, R тощо), пряме введення математичних рівнянь у вигляді ф\\ормул, як у текстовому редакторі, не передбачено. Тобто формули не будуть відображатися як показано на рисунку\n",
        "\n",
        "![Снимок экрана 2024-11-04 130947.png](data:image/png;base64,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)\n",
        "\n",
        "Однак, є кілька способів, як ви можете працювати з цим рівнянням у Google Colab.\n",
        "\n",
        "Найпростіший спосіб просто напишіть рівняння в комірці коду як звичайний текст. Це корисно для коментарів або для того, щоб нагадати собі про рівняння.\n",
        "\n",
        "\n",
        "\n",
        "Електромеханічні системи часто описуються за допомогою рівнянь, що пов'язують електричні і механічні параметри. Можна використовувати такі математичні моделі, як:\n",
        "\n",
        "Закон Ома і рівняння електричних кіл.\n",
        "Рівняння руху для електродвигунів:\n",
        "Наприклад, рівняння, що описують зв'язок між моментом, кутовою швидкістю і моментом інерції.\n",
        "\n",
        "Використаємо декілька вже згаданих бібліотек для створення моделі двигуна, а саме, **SciPy** для чисельного розв’язання диференціальних рівнянь.\n",
        "**Control Systems Library (control)** для моделювання динаміки систем керування.\n",
        "\n",
        "В нашому випадку розглянемо простий приклад моделювання двигуна постійного струму. Припустимо, що у нас є такі рівняння:\n",
        "\n",
        "Рівняння напруги:\n",
        "\n",
        "\n"
      ],
      "metadata": {
        "id": "BhK6XU3sUvLH"
      }
    },
    {
      "cell_type": "code",
      "source": [
        "# Рівняння індуктивності:\n",
        "V = L * (di/dt) + R*i + E"
      ],
      "metadata": {
        "id": "ggsfDPbvWsKC"
      },
      "execution_count": null,
      "outputs": []
    },
    {
      "cell_type": "markdown",
      "source": [
        "де\n",
        "V — напруга, L — індуктивність, R — опір, i — струм, E — проти ЕРС."
      ],
      "metadata": {
        "id": "r0M_WW4DWuCo"
      }
    },
    {
      "cell_type": "markdown",
      "source": [
        "Рівняння моменту:"
      ],
      "metadata": {
        "id": "wAT23FRmW631"
      }
    },
    {
      "cell_type": "code",
      "source": [
        "# Рівняння моменту імпульсу:\n",
        "J * (dω/dt) = T - Tload"
      ],
      "metadata": {
        "id": "QibtPQHdW98q"
      },
      "execution_count": null,
      "outputs": []
    },
    {
      "cell_type": "markdown",
      "source": [
        "де J — момент інерції, ω — кутова швидкість, T — момент двигуна,Tload — момент навантаження.\n",
        "\n",
        "Оскільки наведені рівнняння є діференційні для їх вирішення скористуємося функцією **odeint** із SciPy для чисельного розв’язання диференціальних рівнянь."
      ],
      "metadata": {
        "id": "8mVby0tlXcyx"
      }
    },
    {
      "cell_type": "code",
      "source": [
        "import numpy as np\n",
        "from scipy.integrate import odeint\n",
        "import matplotlib.pyplot as plt\n",
        "\n",
        "# Параметри двигуна\n",
        "R = 2.0  # опір, Ом\n",
        "L = 0.5  # індуктивність, Гн\n",
        "J = 0.01  # момент інерції, кг·м²\n",
        "k_e = 0.1  # коефіцієнт проти ЕРС\n",
        "k_t = 0.1  # коефіцієнт моменту\n",
        "V = 24.0  # напруга живлення, В\n",
        "T_load = 1  # момент навантаження, Н·м\n",
        "\n",
        "# Модель системи\n",
        "def motor_model(y, t):\n",
        "    i, omega = y\n",
        "    di_dt = (V - R * i - k_e * omega) / L\n",
        "    domega_dt = (k_t * i - T_load) / J\n",
        "    return [di_dt, domega_dt]\n",
        "\n",
        "# Початкові умови\n",
        "y0 = [0.0, 0.0]  # початковий струм і кутова швидкість\n",
        "t = np.linspace(0, 5, 100)  # час моделювання\n",
        "\n",
        "# Чисельне розв'язання\n",
        "solution = odeint(motor_model, y0, t)\n",
        "current, speed = solution.T\n",
        "\n",
        "# Графіки результатів\n",
        "plt.figure()\n",
        "plt.subplot(2, 1, 1)\n",
        "plt.plot(t, current, label=\"Струм (A)\")\n",
        "plt.xlabel(\"Час (с)\")\n",
        "plt.ylabel(\"Струм (A)\")\n",
        "plt.legend()\n",
        "\n",
        "plt.subplot(2, 1, 2)\n",
        "plt.plot(t, speed, label=\"Швидкість (рад/с)\")\n",
        "plt.xlabel(\"Час (с)\")\n",
        "plt.ylabel(\"Швидкість (рад/с)\")\n",
        "plt.legend()\n",
        "\n",
        "plt.tight_layout()\n",
        "plt.show()\n"
      ],
      "metadata": {
        "colab": {
          "base_uri": "https://localhost:8080/",
          "height": 486
        },
        "id": "FqThDSIcjpzu",
        "outputId": "877c22fd-6a20-4264-c485-c24d5ece02a5"
      },
      "execution_count": null,
      "outputs": [
        {
          "output_type": "display_data",
          "data": {
            "text/plain": [
              "<Figure size 640x480 with 2 Axes>"
            ],
            "image/png": "[encoded data removed]"
          },
          "metadata": {}
        }
      ]
    },
    {
      "cell_type": "markdown",
      "source": [
        "В наведеному прикладі параметри двигуна визначають фізичні властивості системи.\n",
        "Модель системи описує рівняння для струму та кутової швидкості. В результаті вирішення наведених рівнять можна провести симуляцію поведінки системи з плином часу.\n",
        "\n",
        "В результаті отримаємо не тільки числове а й графічне відображення як змінюються струм і кутова швидкість."
      ],
      "metadata": {
        "id": "V-GK1NM5jsju"
      }
    },
    {
      "cell_type": "markdown",
      "source": [
        "# 2. Приклади задач для трансформаторів."
      ],
      "metadata": {
        "id": "CQjDWywIOCxo"
      }
    },
    {
      "cell_type": "markdown",
      "source": [
        "# Задача 1. Розрахунок коефіцієнта трансформації.\n",
        "\n",
        "Опис задачі: Створити програму, яка обчислює коефіцієнт трансформації трансформатора на основі кількості витків первинної та вторинної обмоток."
      ],
      "metadata": {
        "id": "ehxyo4_SOS4F"
      }
    },
    {
      "cell_type": "code",
      "source": [
        "def calculate_transformation_ratio(N1, N2):\n",
        "    return N1 / N2\n",
        "\n",
        "N1 = int(input(\"Введіть кількість витків первинної обмотки: \"))\n",
        "N2 = int(input(\"Введіть кількість витків вторинної обмотки: \"))\n",
        "k = calculate_transformation_ratio(N1, N2)\n",
        "print(f\"Коефіцієнт трансформації: {k}\")"
      ],
      "metadata": {
        "colab": {
          "base_uri": "https://localhost:8080/"
        },
        "id": "lab1OiQTOlh9",
        "outputId": "028878bc-9bb2-4cd5-9618-36a97965e12f"
      },
      "execution_count": null,
      "outputs": [
        {
          "output_type": "stream",
          "name": "stdout",
          "text": [
            "Введіть кількість витків первинної обмотки: 1000\n",
            "Введіть кількість витків вторинної обмотки: 200\n",
            "Коефіцієнт трансформації: 5.0\n"
          ]
        }
      ]
    },
    {
      "cell_type": "markdown",
      "source": [
        "# Задача 2. Розрахунок струмів обмоток.\n",
        "\n",
        "Опис задачі: Програма для розрахунку струмів у первинній і вторинній обмотках трансформатора на основі відомих потужності трансформатора і напруг обмоток."
      ],
      "metadata": {
        "id": "d1DSEYM8O08t"
      }
    },
    {
      "cell_type": "code",
      "source": [
        "def calculate_currents(P, V1, V2):\n",
        "    I1 = P / V1\n",
        "    I2 = P / V2\n",
        "    return I1, I2\n",
        "\n",
        "P = float(input(\"Введіть потужність трансформатора (Вт): \"))\n",
        "V1 = float(input(\"Введіть напругу первинної обмотки (В): \"))\n",
        "V2 = float(input(\"Введіть напругу вторинної обмотки (В): \"))\n",
        "I1, I2 = calculate_currents(P, V1, V2)\n",
        "print(f\"Струм первинної обмотки: {I1:.2f} A\")\n",
        "print(f\"Струм вторинної обмотки: {I2:.2f} A\")"
      ],
      "metadata": {
        "id": "oNqIIv0RO77q"
      },
      "execution_count": null,
      "outputs": []
    },
    {
      "cell_type": "markdown",
      "source": [
        "# Задача 3. Розрахунок втрат потужності у трансформаторі.\n",
        "\n",
        "Опис задачі: Програма для розрахунку втрат потужності на основі активного опору обмоток і струмів."
      ],
      "metadata": {
        "id": "KV9fz8dAPBXL"
      }
    },
    {
      "cell_type": "code",
      "source": [
        "def calculate_power_loss(I1, I2, R1, R2):\n",
        "    return I1**2 * R1 + I2**2 * R2\n",
        "\n",
        "I1 = float(input(\"Введіть струм первинної обмотки (A): \"))\n",
        "I2 = float(input(\"Введіть струм вторинної обмотки (A): \"))\n",
        "R1 = float(input(\"Введіть опір первинної обмотки (Ом): \"))\n",
        "R2 = float(input(\"Введіть опір вторинної обмотки (Ом): \"))\n",
        "power_loss = calculate_power_loss(I1, I2, R1, R2)\n",
        "print(f\"Втрати потужності: {power_loss:.2f} Вт\")"
      ],
      "metadata": {
        "id": "zRm7beN0PLeV"
      },
      "execution_count": null,
      "outputs": []
    },
    {
      "cell_type": "markdown",
      "source": [
        "# Задача 4. Розрахунок ККД трансформатора.\n",
        "\n",
        "Опис задачі: Програма для обчислення коефіцієнта корисної дії (ККД) трансформатора на основі поданих вхідної і вихідної потужностей."
      ],
      "metadata": {
        "id": "eB5lp1aIU6yj"
      }
    },
    {
      "cell_type": "code",
      "source": [
        "def calculate_efficiency(P_out, P_in):\n",
        "    return (P_out / P_in) * 100\n",
        "\n",
        "P_in = float(input(\"Введіть вхідну потужність (Вт): \"))\n",
        "P_out = float(input(\"Введіть вихідну потужність (Вт): \"))\n",
        "efficiency = calculate_efficiency(P_out, P_in)\n",
        "print(f\"ККД трансформатора: {efficiency:.2f}%\")"
      ],
      "metadata": {
        "id": "ZVWS5RaAVDeE"
      },
      "execution_count": null,
      "outputs": []
    },
    {
      "cell_type": "markdown",
      "source": [
        "# Задача 5. Розрахунок напруги холостого ходу.\n",
        "\n",
        "Опис задачі: Програма для обчислення напруги холостого ходу на основі вхідної напруги та коефіцієнта трансформації."
      ],
      "metadata": {
        "id": "DOcWRqUTVMtP"
      }
    },
    {
      "cell_type": "code",
      "source": [
        "def calculate_no_load_voltage(V1, k):\n",
        "    return V1 / k\n",
        "\n",
        "V1 = float(input(\"Введіть напругу первинної обмотки (В): \"))\n",
        "k = float(input(\"Введіть коефіцієнт трансформації: \"))\n",
        "V_no_load = calculate_no_load_voltage(V1, k)\n",
        "print(f\"Напруга холостого ходу: {V_no_load:.2f} В\")"
      ],
      "metadata": {
        "id": "VhhcUPatVR6k"
      },
      "execution_count": null,
      "outputs": []
    },
    {
      "cell_type": "markdown",
      "source": [
        "\n",
        "# Задача 6. Розрахунок параметрів трансформатора за методом короткого замикання.\n",
        "\n",
        "Опис задачі: Написати програму, яка виконує розрахунок параметрів трансформатора (повний опір, активний і реактивний опори) за допомогою даних короткого замикання.\n",
        "\n",
        "![image.png](data:image/png;base64,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)\n"
      ],
      "metadata": {
        "id": "8ZYvG334ZfGf"
      }
    },
    {
      "cell_type": "code",
      "source": [
        "import math\n",
        "\n",
        "def calculate_short_circuit_parameters(Vk, Ik, Pk):\n",
        "    Zk = Vk / Ik\n",
        "    Rk = Pk / (Ik ** 2)\n",
        "    Xk = math.sqrt(Zk ** 2 - Rk ** 2)\n",
        "    return Zk, Rk, Xk\n",
        "\n",
        "Vk = float(input(\"Введіть напругу короткого замикання (В): \"))\n",
        "Ik = float(input(\"Введіть струм короткого замикання (А): \"))\n",
        "Pk = float(input(\"Введіть потужність втрат у режимі короткого замикання (Вт): \"))\n",
        "\n",
        "Zk, Rk, Xk = calculate_short_circuit_parameters(Vk, Ik, Pk)\n",
        "print(f\"Повний опір Zk: {Zk:.2f} Ом\")\n",
        "print(f\"Активний опір Rk: {Rk:.2f} Ом\")\n",
        "print(f\"Реактивний опір Xk: {Xk:.2f} Ом\")"
      ],
      "metadata": {
        "id": "lRlLcY6tZxWD"
      },
      "execution_count": null,
      "outputs": []
    },
    {
      "cell_type": "markdown",
      "source": [
        "# Задача 7. Розрахунок параметрів еквівалентної схеми трансформатора.\n",
        "\n",
        "Опис задачі: Програма для обчислення параметрів еквівалентної схеми трансформатора на основі випробувань холостого ходу і короткого замикання.\n",
        "\n",
        "![image.png](data:image/png;base64,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)"
      ],
      "metadata": {
        "id": "USY9LOoSZ89E"
      }
    },
    {
      "cell_type": "code",
      "source": [
        "import math\n",
        "\n",
        "def calculate_equivalent_parameters(Pxx, Ixx, Vxx):\n",
        "    G = Pxx / (Vxx ** 2)\n",
        "    B = math.sqrt((Ixx / Vxx) ** 2 - G ** 2)\n",
        "    return G, B\n",
        "\n",
        "Pxx = float(input(\"Введіть потужність холостого ходу (Вт): \"))\n",
        "Ixx = float(input(\"Введіть струм холостого ходу (А): \"))\n",
        "Vxx = float(input(\"Введіть напругу холостого ходу (В): \"))\n",
        "\n",
        "G, B = calculate_equivalent_parameters(Pxx, Ixx, Vxx)\n",
        "print(f\"Активна провідність G: {G:.6f} См\")\n",
        "print(f\"Реактивна провідність B: {B:.6f} См\")"
      ],
      "metadata": {
        "id": "k89dxNtVaJto"
      },
      "execution_count": null,
      "outputs": []
    },
    {
      "cell_type": "markdown",
      "source": [
        "# Задача 8. Аналіз навантаження трансформатора.\n",
        "\n",
        "Опис задачі: Програма для розрахунку характеристик трансформатора при змінному навантаженні, включаючи падіння напруги, втрати потужності та зміну ККД.\n",
        "\n",
        "![image.png](data:image/png;base64,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)"
      ],
      "metadata": {
        "id": "qO7aHSw2bUET"
      }
    },
    {
      "cell_type": "code",
      "source": [
        "import math\n",
        "\n",
        "def load_analysis(I2, Rk, Xk, cos_phi):\n",
        "    sin_phi = math.sqrt(1 - cos_phi ** 2)\n",
        "    voltage_drop = I2 * (Rk * cos_phi + Xk * sin_phi)\n",
        "    return voltage_drop\n",
        "\n",
        "I2 = float(input(\"Введіть струм навантаження (А): \"))\n",
        "Rk = float(input(\"Введіть активний опір обмотки (Ом): \"))\n",
        "Xk = float(input(\"Введіть реактивний опір обмотки (Ом): \"))\n",
        "cos_phi = float(input(\"Введіть коефіцієнт потужності cos(φ): \"))\n",
        "\n",
        "voltage_drop = load_analysis(I2, Rk, Xk, cos_phi)\n",
        "print(f\"Падіння напруги: {voltage_drop:.2f} В\")"
      ],
      "metadata": {
        "id": "QnsgfFhndLdb"
      },
      "execution_count": null,
      "outputs": []
    },
    {
      "cell_type": "markdown",
      "source": [
        "# Задача 9. Розрахунок оптимального режиму роботи трансформатора.\n",
        "\n",
        "Опис задачі: Програма, яка розраховує оптимальний режим роботи трансформатора для мінімізації втрат потужності на основі змінної величини навантаження."
      ],
      "metadata": {
        "id": "SlZ6Re3kirrX"
      }
    },
    {
      "cell_type": "code",
      "source": [
        "import numpy as np\n",
        "from scipy.optimize import minimize\n",
        "\n",
        "def power_loss(I2, R1, R2, X1, X2):\n",
        "    return I2**2 * (R1 + R2) + (I2 * (X1 + X2))**2\n",
        "\n",
        "R1 = 0.5  # Ом\n",
        "R2 = 0.3  # Ом\n",
        "X1 = 0.6  # Ом\n",
        "X2 = 0.4  # Ом\n",
        "\n",
        "result = minimize(power_loss, x0=5, args=(R1, R2, X1, X2))\n",
        "optimal_I2 = result.x[0]\n",
        "\n",
        "print(f\"Оптимальний струм навантаження: {optimal_I2:.2f} А\")"
      ],
      "metadata": {
        "id": "058j8aDZm4l9"
      },
      "execution_count": null,
      "outputs": []
    },
    {
      "cell_type": "markdown",
      "source": [
        "# Задача 10. Розрахунок гармонічних спотворень у трансформаторі.\n",
        "\n",
        "Опис задачі: Програма для оцінки впливу гармонічних спотворень на роботу трансформатора, з використанням спектрального аналізу."
      ],
      "metadata": {
        "id": "gJyqfO_cm7XZ"
      }
    },
    {
      "cell_type": "code",
      "source": [
        "import numpy as np\n",
        "import matplotlib.pyplot as plt\n",
        "\n",
        "# Генерація сигналу з гармоніками\n",
        "t = np.linspace(0, 1, 1000)\n",
        "signal = np.sin(2 * np.pi * 50 * t) + 0.3 * np.sin(2 * np.pi * 150 * t) + 0.1 * np.sin(2 * np.pi * 250 * t)\n",
        "\n",
        "# Спектральний аналіз\n",
        "fft_result = np.fft.fft(signal)\n",
        "freqs = np.fft.fftfreq(len(signal), d=(t[1] - t[0]))\n",
        "\n",
        "# Візуалізація результатів\n",
        "plt.plot(freqs[:len(freqs)//2], np.abs(fft_result)[:len(freqs)//2])\n",
        "plt.xlabel(\"Частота (Гц)\")\n",
        "plt.ylabel(\"Амплітуда\")\n",
        "plt.title(\"Спектральний аналіз сигналу\")\n",
        "plt.show()\n"
      ],
      "metadata": {
        "id": "fNtGoebbnJWm"
      },
      "execution_count": null,
      "outputs": []
    }
  ]
}