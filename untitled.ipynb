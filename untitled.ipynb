{
  "nbformat": 4,
  "nbformat_minor": 0,
  "metadata": {
    "colab": {
      "provenance": []
    },
    "kernelspec": {
      "name": "python3",
      "display_name": "Python 3"
    },
    "language_info": {
      "name": "python"
    }
  },
  "cells": [
    {
      "cell_type": "markdown",
      "source": [
        "# 1. Вступ до Python. Основи мови."
      ],
      "metadata": {
        "id": "-lNFZrNpzqdn"
      }
    },
    {
      "cell_type": "markdown",
      "source": [
        "# **1.1 Змінні та типи  даних у Python**\n",
        "\n",
        "Змінні і типи даних є основними поняттями в Python, які використовуються для збереження та маніпулювання інформацією. Розуміння змінних і типів даних є ключовим для ефективного програмування.\n",
        "\n",
        "Змінна — це іменована область пам'яті, яка використовується для збереження даних. У Python змінні не потребують попереднього оголошення, і їхній тип визначається автоматично на основі присвоєного значення. Це робить роботу зі змінними простою та гнучкою.\n"
      ],
      "metadata": {
        "id": "6g_Uisyp9lX-"
      }
    },
    {
      "cell_type": "code",
      "execution_count": null,
      "metadata": {
        "id": "UjovY3Bf9kKJ",
        "colab": {
          "base_uri": "https://localhost:8080/"
        },
        "outputId": "f0a839a3-a8fa-416b-a262-ab9a9163e32e"
      },
      "outputs": [
        {
          "output_type": "stream",
          "name": "stdout",
          "text": [
            "Electric Motor\n"
          ]
        }
      ],
      "source": [
        "name = \"Electric Motor\"   # рядок\n",
        "power = 500               # ціле число\n",
        "efficiency = 0.89         # дійсне число"
      ]
    },
    {
      "cell_type": "markdown",
      "source": [
        "У Python існує кілька основних типів даних, кожен із яких використовується для зберігання різних типів інформації:\n",
        "\n",
        "Цілі числа **(int)**\n",
        "Цей тип використовується для збереження цілих чисел, наприклад, кількість обертів двигуна, потужність або кількість пристроїв."
      ],
      "metadata": {
        "id": "T0bfl4OB9w2C"
      }
    },
    {
      "cell_type": "code",
      "source": [
        "revolutions = 1500"
      ],
      "metadata": {
        "id": "jNfAVXLs91V4"
      },
      "execution_count": null,
      "outputs": []
    },
    {
      "cell_type": "markdown",
      "source": [
        "Дійсні числа **(float)**\n",
        "Дійсні числа зберігаються як значення з плаваючою комою і застосовуються для зберігання дробових чисел, що часто потрібно в обчисленнях, наприклад, для розрахунку ефективності."
      ],
      "metadata": {
        "id": "NA9DVt-Q98UG"
      }
    },
    {
      "cell_type": "code",
      "source": [
        "efficiency = 0.95"
      ],
      "metadata": {
        "id": "d3yJw8uc9_yK"
      },
      "execution_count": null,
      "outputs": []
    },
    {
      "cell_type": "markdown",
      "source": [
        "Рядки **(str)**\n",
        "Рядки використовуються для збереження текстової інформації, як-от імена пристроїв або тип матеріалу."
      ],
      "metadata": {
        "id": "s3-8K6-y-C6i"
      }
    },
    {
      "cell_type": "code",
      "source": [
        "device_name = \"Generator\""
      ],
      "metadata": {
        "id": "6vlvbFHKQsKv"
      },
      "execution_count": null,
      "outputs": []
    },
    {
      "cell_type": "markdown",
      "source": [
        "Булеві значення **(bool)**.\n",
        "Булеві змінні приймають лише два значення: True або False. Вони корисні для реалізації умовної логіки."
      ],
      "metadata": {
        "id": "EOyK5wcDQwC3"
      }
    },
    {
      "cell_type": "code",
      "source": [
        "is_operational = True"
      ],
      "metadata": {
        "id": "s4mPmgLxQzGz"
      },
      "execution_count": null,
      "outputs": []
    },
    {
      "cell_type": "markdown",
      "source": [
        "Для зберігання та організації даних в Python використовуються списки, кортежі та словники, але кожен з них має свої особливості та підходить для різних завдань.\n",
        "\n",
        "**Списки (list).**\n",
        "Списки використовуються для збереження кількох значень в одній змінній. Вони особливо корисні для зберігання серій даних, наприклад, даних про різні компоненти."
      ],
      "metadata": {
        "id": "hkGSPZikQ29a"
      }
    },
    {
      "cell_type": "code",
      "source": [
        "components = [\"motor\", \"generator\", \"transformer\"]"
      ],
      "metadata": {
        "id": "vGPom-JaQ7-r"
      },
      "execution_count": null,
      "outputs": []
    },
    {
      "cell_type": "markdown",
      "source": [
        "**Кортежі (tuple).**\n",
        "Кортежі схожі на списки, але є незмінними. Вони використовуються для зберігання даних, які не повинні змінюватися протягом виконання програми."
      ],
      "metadata": {
        "id": "AJWXT4IdQ-Kt"
      }
    },
    {
      "cell_type": "code",
      "source": [
        "voltage_levels = (110, 220, 380)"
      ],
      "metadata": {
        "id": "cWB4IkemRBqQ"
      },
      "execution_count": null,
      "outputs": []
    },
    {
      "cell_type": "markdown",
      "source": [
        "**Словники (dict).**\n",
        "Словники зберігають дані у вигляді пар \"ключ-значення\", що зручно для доступу до інформації за ключовими словами. Це корисно для зберігання параметрів пристроїв або інших характеристик."
      ],
      "metadata": {
        "id": "r_lwq44zRIpX"
      }
    },
    {
      "cell_type": "code",
      "source": [
        "device_info = {\"name\": \"Motor\", \"power\": 500, \"voltage\": 220}"
      ],
      "metadata": {
        "id": "tzMvSpXjRMnb"
      },
      "execution_count": null,
      "outputs": []
    },
    {
      "cell_type": "markdown",
      "source": [
        "# 1.2 Основні бібліотеки, корисні для електромеханіки"
      ],
      "metadata": {
        "id": "Z4Yz_CoHNMmB"
      }
    },
    {
      "cell_type": "markdown",
      "source": [
        "У Python є кілька потужних бібліотек, які дуже корисні для інженерних і наукових обчислень, зокрема в галузі електромеханіки. Вони допомагають виконувати чисельні розрахунки, аналіз даних, моделювання та візуалізацію.\n",
        "\n",
        "**NumPy**\n",
        "Призначенна для обробки великих масивів чисел і виконання математичних операцій з ними.\n",
        "В електромеханіці можна використовувати для створення матриць для моделювання електричних схем, виконання лінійної алгебри, розрахунків енергоспоживання тощо."
      ],
      "metadata": {
        "id": "xYQJlYXKRhLb"
      }
    },
    {
      "cell_type": "code",
      "source": [
        "import numpy as np\n",
        "currents = np.array([10, 15, 20])\n",
        "resistances = np.array([5, 10, 15])\n",
        "voltages = currents * resistances  # закон Ома: U = I * R"
      ],
      "metadata": {
        "id": "1V8V2eRpR0Gn"
      },
      "execution_count": null,
      "outputs": []
    },
    {
      "cell_type": "markdown",
      "source": [
        "Бібліотека **SciPy** розширює можливості NumPy для складніших наукових і інженерних обчислень.\n",
        "Використовується для розв'язування диференціальних рівнянь, інтегрування, оптимізація параметрів систем керування, аналіз сигналів."
      ],
      "metadata": {
        "id": "vC-62TSBSWBB"
      }
    },
    {
      "cell_type": "code",
      "source": [
        "from scipy import integrate\n",
        "result = integrate.quad(lambda x: x**2, 0, 5)  # обчислення інтегралу функції x^2"
      ],
      "metadata": {
        "id": "ilIaSoNzSiUw"
      },
      "execution_count": null,
      "outputs": []
    },
    {
      "cell_type": "markdown",
      "source": [
        "**Matplotlib** Призначен для створення графіків і візуалізація даних.\n",
        "Закстосовується для побудови графіків електричних сигналів, аналізу енергоспоживання в різні моменти часу, візуалізація характеристик компонентів."
      ],
      "metadata": {
        "id": "lnw03iKjSrMA"
      }
    },
    {
      "cell_type": "code",
      "source": [
        "import matplotlib.pyplot as plt\n",
        "time = [0, 1, 2, 3, 4, 5]\n",
        "voltage = [0, 100, 150, 130, 110, 90]\n",
        "plt.plot(time, voltage)\n",
        "plt.xlabel(\"Time (s)\")\n",
        "plt.ylabel(\"Voltage (V)\")\n",
        "plt.title(\"Voltage Over Time\")\n",
        "plt.show()"
      ],
      "metadata": {
        "id": "e58SwyU6S2V6"
      },
      "execution_count": null,
      "outputs": []
    },
    {
      "cell_type": "markdown",
      "source": [
        "**Pandas** Призначенний для обробки і аналізу табличних даних.\n",
        "Вискористовують для аналізу великих наборів даних, таких як вимірювання параметрів електроприводів, обробка експериментальних даних і автоматизація звітів."
      ],
      "metadata": {
        "id": "AvdipRLyS-2F"
      }
    },
    {
      "cell_type": "code",
      "source": [
        "import pandas as pd\n",
        "data = {\"Time\": [1, 2, 3, 4], \"Current\": [10, 15, 20, 25]}\n",
        "df = pd.DataFrame(data)\n",
        "print(df)"
      ],
      "metadata": {
        "id": "RsqFa05qTJ_g"
      },
      "execution_count": null,
      "outputs": []
    },
    {
      "cell_type": "markdown",
      "source": [
        "**SymPy** використовують для символьних обчислення (аналіз математичних виразів).\n",
        "Призначений для спрощення рівнянь, символічне диференціювання, аналіз математичних моделей електричних машин."
      ],
      "metadata": {
        "id": "gU4UgPRqTTP8"
      }
    },
    {
      "cell_type": "code",
      "source": [
        "from sympy import symbols, diff\n",
        "x = symbols('x')\n",
        "expr = x**2 + 3*x + 2\n",
        "derivative = diff(expr, x)  # обчислення похідної"
      ],
      "metadata": {
        "id": "tHiIesYLTojA"
      },
      "execution_count": null,
      "outputs": []
    },
    {
      "cell_type": "markdown",
      "source": [
        "**Control Systems Library (control)**бібліотека призначена для аналізу і синтез систем автоматичного керування.\n",
        "Застосовується для моделювання та аналіз динамічних систем, проектування регуляторів, стабільність систем керування."
      ],
      "metadata": {
        "id": "SQ6XG9-LTr27"
      }
    },
    {
      "cell_type": "code",
      "source": [
        "import control as ctrl\n",
        "num = [1]  # чисельник передавальної функції\n",
        "den = [1, 3, 2]  # знаменник передавальної функції\n",
        "system = ctrl.TransferFunction(num, den)\n",
        "ctrl.bode(system)  # побудова частотної характеристики"
      ],
      "metadata": {
        "id": "QqI-oiP4T6t0"
      },
      "execution_count": null,
      "outputs": []
    },
    {
      "cell_type": "markdown",
      "source": [
        "Це далеко не повний перелік бібліотек які можна використати в будь якій галузі наукового програмування, але вони мають наібілше застосування."
      ],
      "metadata": {
        "id": "ZupSPlY0T-nY"
      }
    },
    {
      "cell_type": "markdown",
      "source": [
        "# 1.3 Поняття функції."
      ],
      "metadata": {
        "id": "Dh9eW29cURt2"
      }
    },
    {
      "cell_type": "markdown",
      "source": [
        "Функції в Python – це основні блоки коду, які дозволяють виконувати певну дію. Вони використовуються для структуризації програм, повторного використання коду та підвищення його зрозумілості. Функції приймають вхідні дані (аргументи), обробляють їх і можуть повертати результат.\n",
        "\n",
        "Функції в Python визначаються за допомогою ключового слова **def**, за яким іде ім'я функції, список параметрів у круглих дужках і двокрапка. Тіло функції записується з відступом."
      ],
      "metadata": {
        "id": "Wfn4WAic0LsZ"
      }
    },
    {
      "cell_type": "code",
      "source": [
        "def function_name(parameters):\n",
        "    # Тіло функції\n",
        "    return результат"
      ],
      "metadata": {
        "id": "Z4tBhaNm0WEx"
      },
      "execution_count": null,
      "outputs": []
    },
    {
      "cell_type": "markdown",
      "source": [
        "Для прикладу напишемо функцію яка буде вітати користувача."
      ],
      "metadata": {
        "id": "46mT_rdE0Zy_"
      }
    },
    {
      "cell_type": "code",
      "source": [
        "def greet(name):\n",
        "    return f\"Привіт, {name}!\"\n",
        "\n",
        "print(greet(\"User\"))  # Виведе: Привіт, User!"
      ],
      "metadata": {
        "id": "nKVk2b680itM"
      },
      "execution_count": null,
      "outputs": []
    },
    {
      "cell_type": "markdown",
      "source": [
        "Функції дозволяють створювати модульний і зручний для розуміння код. Наприклад, можна писати функції для розрахунку електричних параметрів:"
      ],
      "metadata": {
        "id": "La0J-UA_0qiG"
      }
    },
    {
      "cell_type": "code",
      "source": [
        "def calculate_power(voltage, current):\n",
        "    power = voltage * current\n",
        "    return power\n",
        "\n",
        "print(calculate_power(220, 10))  # Виведе: 2200 (Вт)"
      ],
      "metadata": {
        "id": "1yZGT22W0tJW"
      },
      "execution_count": null,
      "outputs": []
    },
    {
      "cell_type": "markdown",
      "source": [
        "Функції можуть мати кілька типів аргументів:\n",
        "\n",
        "**Обов'язкові аргументи:** мають бути передані при виклику функції.\n",
        "\n",
        "**Аргументи зі значеннями за замовчуванням:** якщо аргумент не передано, використовується значення за замовчуванням."
      ],
      "metadata": {
        "id": "EMRo-BrS0xs4"
      }
    },
    {
      "cell_type": "code",
      "source": [
        "def calculate_resistance(voltage, current=1):\n",
        "    return voltage / current\n",
        "\n",
        "print(calculate_resistance(220))       # Виведе: 220.0 (якщо струм = 1 A)\n",
        "print(calculate_resistance(220, 2))    # Виведе: 110.0"
      ],
      "metadata": {
        "id": "vVYd9FBv03Pt"
      },
      "execution_count": null,
      "outputs": []
    },
    {
      "cell_type": "markdown",
      "source": [
        "Змінні які передаються функція можуть бути двох типів:\n",
        "\n",
        "**Локальні змінні:** створюються всередині функції і доступні тільки в ній.\n",
        "**Глобальні змінні:** створюються поза функцією і можуть бути доступні у всій програмі."
      ],
      "metadata": {
        "id": "66p7hnoG06kw"
      }
    },
    {
      "cell_type": "code",
      "source": [
        "x = 10  # Глобальна змінна\n",
        "\n",
        "def example():\n",
        "    x = 5  # Локальна змінна\n",
        "    print(\"Локальне x:\", x)\n",
        "\n",
        "example()  # Виведе: Локальне x: 5\n",
        "print(\"Глобальне x:\", x)  # Виведе: Глобальне x: 10"
      ],
      "metadata": {
        "id": "FIOJnj4S1Icn"
      },
      "execution_count": null,
      "outputs": []
    },
    {
      "cell_type": "markdown",
      "source": [
        "Python підтримує створення анонімних (безіменних) функцій за допомогою ключового слова **lambda**. Вони використовуються для простих операцій."
      ],
      "metadata": {
        "id": "16y84tNd1MqF"
      }
    },
    {
      "cell_type": "code",
      "source": [
        "multiply = lambda x, y: x * y\n",
        "print(multiply(3, 4))  # Виведе: 12"
      ],
      "metadata": {
        "id": "YQDw0LcO1TzT"
      },
      "execution_count": null,
      "outputs": []
    },
    {
      "cell_type": "markdown",
      "source": [
        "Функції можуть бути вкладені одна в одну. Вкладені функції мають доступ до змінних зовнішньої функції, створюючи замикання."
      ],
      "metadata": {
        "id": "uUUkDJJq1X1j"
      }
    },
    {
      "cell_type": "code",
      "source": [
        "def outer_function(text):\n",
        "    def inner_function():\n",
        "        print(text)\n",
        "    inner_function()\n",
        "\n",
        "outer_function(\"Привіт, електромеханіка!\")  # Виведе: Привіт, електромеханіка!"
      ],
      "metadata": {
        "id": "18cHlKAK1aP5"
      },
      "execution_count": null,
      "outputs": []
    },
    {
      "cell_type": "markdown",
      "source": [
        "Функції особливо корисні, коли одна й та ж логіка повторюється багаторазово. Наприклад, можна створити функції для обчислення ефективності електричних машин, втрат потужності або інших параметрів."
      ],
      "metadata": {
        "id": "jO_5P-Pg1eXt"
      }
    },
    {
      "cell_type": "markdown",
      "source": [
        "# 2. Моделювання електромеханічних систем."
      ],
      "metadata": {
        "id": "LkG1xYNHUURb"
      }
    },
    {
      "cell_type": "markdown",
      "source": [
        "Python дозволяє створювати математичні моделі, аналізувати їхню поведінку та вдосконалювати системи керування. Розглянемо приклад моделювання роботи двигуна постійного струму.\n",
        "\n",
        "Оскільки Google Colab перш за все призначений для роботи з кодом (Python, R тощо), пряме введення математичних рівнянь у вигляді формул, як у текстовому редакторі, не передбачено. Тобто формули не будуть відображатися як показано на рисунку\n",
        "\n",
        "![Снимок экрана 2024-11-04 130947.png](data:image/png;base64,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)\n",
        "\n",
        "Однак, є кілька способів, як ви можете працювати з цим рівнянням у Google Colab.\n",
        "\n",
        "Найпростіший спосіб просто напишіть рівняння в комірці коду як звичайний текст. Це корисно для коментарів або для того, щоб нагадати собі про рівняння.\n",
        "\n",
        "Електромеханічні системи часто описуються за допомогою рівнянь, що пов'язують електричні і механічні параметри. Можна використовувати такі математичні моделі, як:\n",
        "\n",
        "Закон Ома і рівняння електричних кіл.\n",
        "Рівняння руху для електродвигунів:\n",
        "Наприклад, рівняння, що описують зв'язок між моментом, кутовою швидкістю і моментом інерції.\n",
        "\n",
        "Використаємо декілька вже згаданих бібліотек для створення моделі двигуна, а саме, **SciPy** для чисельного розв’язання диференціальних рівнянь.\n",
        "**Control Systems Library (control)** для моделювання динаміки систем керування.\n",
        "\n",
        "В нашому випадку розглянемо простий приклад моделювання двигуна постійного струму. Припустимо, що у нас є такі рівняння:\n",
        "\n",
        "Рівняння напруги:\n",
        "\n",
        "\n"
      ],
      "metadata": {
        "id": "BhK6XU3sUvLH"
      }
    },
    {
      "cell_type": "code",
      "source": [
        "# Рівняння індуктивності:\n",
        "V = L * (di/dt) + R*i + E"
      ],
      "metadata": {
        "id": "ggsfDPbvWsKC"
      },
      "execution_count": null,
      "outputs": []
    },
    {
      "cell_type": "markdown",
      "source": [
        "де\n",
        "V — напруга, L — індуктивність, R — опір, i — струм, E — проти ЕРС."
      ],
      "metadata": {
        "id": "r0M_WW4DWuCo"
      }
    },
    {
      "cell_type": "markdown",
      "source": [
        "Рівняння моменту:"
      ],
      "metadata": {
        "id": "wAT23FRmW631"
      }
    },
    {
      "cell_type": "code",
      "source": [
        "# Рівняння моменту імпульсу:\n",
        "J * (dω/dt) = T - Tload"
      ],
      "metadata": {
        "id": "QibtPQHdW98q"
      },
      "execution_count": null,
      "outputs": []
    },
    {
      "cell_type": "markdown",
      "source": [
        "де J — момент інерції, ω — кутова швидкість, T — момент двигуна,Tload — момент навантаження.\n",
        "\n",
        "Оскільки наведені рівнняння є діференційні для їх вирішення скористуємося функцією **odeint** із SciPy для чисельного розв’язання диференціальних рівнянь."
      ],
      "metadata": {
        "id": "8mVby0tlXcyx"
      }
    },
    {
      "cell_type": "code",
      "source": [
        "import numpy as np\n",
        "from scipy.integrate import odeint\n",
        "import matplotlib.pyplot as plt\n",
        "\n",
        "# Параметри двигуна\n",
        "R = 2.0  # опір, Ом\n",
        "L = 0.5  # індуктивність, Гн\n",
        "J = 0.01  # момент інерції, кг·м²\n",
        "k_e = 0.1  # коефіцієнт проти ЕРС\n",
        "k_t = 0.1  # коефіцієнт моменту\n",
        "V = 24.0  # напруга живлення, В\n",
        "T_load = 1  # момент навантаження, Н·м\n",
        "\n",
        "# Модель системи\n",
        "def motor_model(y, t):\n",
        "    i, omega = y\n",
        "    di_dt = (V - R * i - k_e * omega) / L\n",
        "    domega_dt = (k_t * i - T_load) / J\n",
        "    return [di_dt, domega_dt]\n",
        "\n",
        "# Початкові умови\n",
        "y0 = [0.0, 0.0]  # початковий струм і кутова швидкість\n",
        "t = np.linspace(0, 5, 100)  # час моделювання\n",
        "\n",
        "# Чисельне розв'язання\n",
        "solution = odeint(motor_model, y0, t)\n",
        "current, speed = solution.T\n",
        "\n",
        "# Графіки результатів\n",
        "plt.figure()\n",
        "plt.subplot(2, 1, 1)\n",
        "plt.plot(t, current, label=\"Струм (A)\")\n",
        "plt.xlabel(\"Час (с)\")\n",
        "plt.ylabel(\"Струм (A)\")\n",
        "plt.legend()\n",
        "\n",
        "plt.subplot(2, 1, 2)\n",
        "plt.plot(t, speed, label=\"Швидкість (рад/с)\")\n",
        "plt.xlabel(\"Час (с)\")\n",
        "plt.ylabel(\"Швидкість (рад/с)\")\n",
        "plt.legend()\n",
        "\n",
        "plt.tight_layout()\n",
        "plt.show()\n"
      ],
      "metadata": {
        "colab": {
          "base_uri": "https://localhost:8080/",
          "height": 486
        },
        "id": "FqThDSIcjpzu",
        "outputId": "877c22fd-6a20-4264-c485-c24d5ece02a5"
      },
      "execution_count": null,
      "outputs": [
        {
          "output_type": "display_data",
          "data": {
            "text/plain": [
              "<Figure size 640x480 with 2 Axes>"
            ],
            "image/png": "[encoded data removed]"
          },
          "metadata": {}
        }
      ]
    },
    {
      "cell_type": "markdown",
      "source": [
        "В наведеному прикладі параметри двигуна визначають фізичні властивості системи.\n",
        "Модель системи описує рівняння для струму та кутової швидкості. В результаті вирішення наведених рівнять можна провести симуляцію поведінки системи з плином часу.\n",
        "\n",
        "В результаті отримаємо не тільки числове а й графічне відображення як змінюються струм і кутова швидкість."
      ],
      "metadata": {
        "id": "V-GK1NM5jsju"
      }
    }
  ]
}